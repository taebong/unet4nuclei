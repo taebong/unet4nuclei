{
 "cells": [
  {
   "cell_type": "code",
   "execution_count": 2,
   "metadata": {},
   "outputs": [],
   "source": [
    "import skimage\n",
    "from skimage import measure\n",
    "from skimage import segmentation\n",
    "\n",
    "import numpy as np\n",
    "import scipy as sp\n",
    "import pandas as pd\n",
    "import re\n",
    "import os\n",
    "import gc\n",
    "import imageio\n",
    "import matplotlib as mpl\n",
    "import matplotlib.pyplot as plt\n",
    "import statistics\n",
    "\n",
    "%matplotlib inline"
   ]
  },
  {
   "cell_type": "code",
   "execution_count": 28,
   "metadata": {},
   "outputs": [],
   "source": [
    "# if len(sys.argv) != 3:\n",
    "#     print(\"Use: python measureNuclearIntensity.py raw_image_dir analysis_dir\")\n",
    "#     sys.exit()\n",
    "# else:\n",
    "#     raw_image_dir = sys.argv[1]    #raw image pth\n",
    "#     analysis_dir = sys.argv[2]   #analysis pth\n",
    "\n",
    "raw_image_dir = '/n/groups/mitchison/Tae/SpinningDisk_IF/20210131_cTY52_GlcNAc_perturbation_RL2_8well/'\n",
    "analysis_dir = '/n/groups/mitchison/Tae/analysis/unet4nuclei_outputs/20210131_cTY52_GlcNAc_perturbation_RL2_8well/'"
   ]
  },
  {
   "cell_type": "code",
   "execution_count": 29,
   "metadata": {},
   "outputs": [],
   "source": [
    "all_files = os.listdir(raw_image_dir)\n",
    "regexp = re.compile('(?P<Condition>.*?)_w(?P<Ch_num>\\d{1})(?P<Ch_name>.*?)_s(?P<Pos>\\d*?).TIF',re.IGNORECASE)\n",
    "meta_list = []\n",
    "for f in all_files:\n",
    "    r = regexp.match(f)\n",
    "    if r:\n",
    "        meta=r.groupdict()\n",
    "        meta['Filename'] = f\n",
    "        meta_list.append(meta)\n",
    "        \n",
    "df_meta = pd.DataFrame(meta_list)\n",
    "df_meta = df_meta.sort_values(['Condition','Pos','Ch_num'])\n",
    "df_meta = df_meta.reset_index(drop=True)\n",
    "\n",
    "seg_files = os.listdir(analysis_dir+'segm/')\n",
    "seg_files_dapi = [f for f in seg_files if 'DAPI' in f]"
   ]
  },
  {
   "cell_type": "code",
   "execution_count": 30,
   "metadata": {},
   "outputs": [],
   "source": [
    "def downsample(im,binning_factor):\n",
    "    sz = np.array(im.shape)\n",
    "    \n",
    "    # if sz[0] and sz[1] are not multiples of BINNING_FACTOR, reduce them to the largest multiple of BINNING_FACTOR and crop image\n",
    "    newsz = (sz/binning_factor).astype(int)\n",
    "    cropsz = newsz*binning_factor\n",
    "    im = im[0:cropsz[0],0:cropsz[1]]\n",
    "\n",
    "    newim = im.reshape((newsz[0],binning_factor,newsz[1],binning_factor))\n",
    "    return newim.mean(-1).mean(1)\n",
    "\n",
    "def normalize_image(im,low=None,high=None):\n",
    "    if low==None:\n",
    "        low = np.min(im)\n",
    "    if high==None:\n",
    "        high = np.max(im)\n",
    "    \n",
    "    im = np.minimum(high,im)\n",
    "    im = np.maximum(low,im)\n",
    "    \n",
    "    im = (im-low)/(high-low)\n",
    "    \n",
    "    return im    \n",
    "\n",
    "def subtractBg(im):\n",
    "    filtered = skimage.filters.gaussian(im,sigma=2)\n",
    "    h = np.histogram(filtered,bins=500);\n",
    "    bg = h[1][h[0].argmax()]\n",
    "    im[im<bg] = bg\n",
    "    im = im-bg\n",
    "    return im\n",
    "    \n",
    "def getLabelColorMap():\n",
    "    colors = plt.cm.jet(range(256))\n",
    "    np.random.shuffle(colors)\n",
    "    colors[0] = (0.,0.,0.,1.)\n",
    "    #rmap = c.ListedColormap(colors)\n",
    "    return colors\n",
    "\n",
    "def showSegmentation(label_im,norm_im1,norm_im2,rmap,zoom=3,fig=None):\n",
    "    \n",
    "    sz = label_im.shape\n",
    "    \n",
    "    combined = np.moveaxis([norm_im1,norm_im2,np.zeros(sz)],0,2)\n",
    "    \n",
    "    if fig:\n",
    "        axs = fig.subplots(2, 2,sharex=True, sharey=True);\n",
    "    else:\n",
    "        fig,axs = plt.subplots(2, 2,sharex=True, sharey=True);\n",
    "    \n",
    "    w,h = plt.figaspect(sz[0]/sz[1]);\n",
    "    fig.set_size_inches(w * zoom, h * zoom);\n",
    "    \n",
    "    axs[0][0].imshow(rmap[label_im%256]);    \n",
    "    axs[0][1].imshow(segmentation.mark_boundaries(norm_im1,label_im,mode='inner',color=None,outline_color=[1,0,0]));\n",
    "    axs[1][0].imshow(segmentation.mark_boundaries(norm_im2,label_im,mode='inner',color=None,outline_color=[1,0,0]));\n",
    "    axs[1][1].imshow(segmentation.mark_boundaries(combined,label_im,mode='inner',color=None,outline_color=[1,1,1]));\n",
    "    \n",
    "    rps = measure.regionprops(label_im)\n",
    "    \n",
    "    #X,Y = np.meshgrid(np.arange(sz[1]),np.arange(sz[0]))\n",
    "    \n",
    "    for rp in rps:\n",
    "        yc,xc = rp.centroid\n",
    "\n",
    "        for ax in axs.flatten()[:3]:\n",
    "            ax.text(xc,yc,rp.label,fontsize=3*zoom,\n",
    "                     horizontalalignment='center',\n",
    "                     verticalalignment='center',color='k');\n",
    "            \n",
    "    for ax in axs.flatten():\n",
    "        ax.set_yticks([]);\n",
    "        ax.set_xticks([]);\n",
    "    \n",
    "    \n",
    "    # Remove horizontal space between axes\n",
    "    fig.subplots_adjust(hspace=0.02,wspace=0.02);\n",
    "    \n",
    "    fig.tight_layout()\n",
    "\n",
    "    return fig,axs"
   ]
  },
  {
   "cell_type": "code",
   "execution_count": 31,
   "metadata": {},
   "outputs": [
    {
     "name": "stderr",
     "output_type": "stream",
     "text": [
      "/home/ty118/miniconda/lib/python3.7/site-packages/skimage/measure/_regionprops.py:250: UserWarning: regionprops and image moments (including moments, normalized moments, central moments, and inertia tensor) of 2D images will change from xy coordinates to rc coordinates in version 0.16.\n",
      "See https://scikit-image.org/docs/0.14.x/release_notes_and_installation.html#deprecations for details on how to avoid this message.\n",
      "  warn(XY_TO_RC_DEPRECATION_MESSAGE)\n",
      "/home/ty118/miniconda/lib/python3.7/site-packages/skimage/measure/_regionprops.py:260: UserWarning: regionprops and image moments (including moments, normalized moments, central moments, and inertia tensor) of 2D images will change from xy coordinates to rc coordinates in version 0.16.\n",
      "See https://scikit-image.org/docs/0.14.x/release_notes_and_installation.html#deprecations for details on how to avoid this message.\n",
      "  warn(XY_TO_RC_DEPRECATION_MESSAGE)\n",
      "/home/ty118/miniconda/lib/python3.7/site-packages/ipykernel_launcher.py:57: MatplotlibDeprecationWarning: \n",
      "The frameon kwarg was deprecated in Matplotlib 3.1 and will be removed in 3.3. Use facecolor instead.\n"
     ]
    },
    {
     "data": {
      "text/plain": [
       "<Figure size 1134x864 with 0 Axes>"
      ]
     },
     "metadata": {},
     "output_type": "display_data"
    }
   ],
   "source": [
    "savedir = analysis_dir+'combined_images/'\n",
    "os.makedirs(savedir,exist_ok=True)\n",
    "\n",
    "grp = df_meta.groupby(['Condition','Pos'])\n",
    "\n",
    "rmap = getLabelColorMap()\n",
    "fig = plt.figure();\n",
    "df_props_all = pd.DataFrame()\n",
    "for ind,df in grp:\n",
    "    cond,pos = ind\n",
    "    \n",
    "    fname_dapi = df.iloc[np.where(df['Ch_num']=='2')[0][0]]['Filename']\n",
    "    fname_ab = df.iloc[np.where(df['Ch_num']=='1')[0][0]]['Filename']\n",
    "\n",
    "    im_dapi = imageio.imread(os.path.join(raw_image_dir,fname_dapi))    \n",
    "    im_ab = imageio.imread(os.path.join(raw_image_dir,fname_ab))\n",
    "    label_im = imageio.imread(analysis_dir+'segm/'+fname_dapi[:-3]+'png')\n",
    "    \n",
    "    #downsample\n",
    "    if 'binning_factor' not in locals():\n",
    "        binning_factor = int(im_dapi.shape[0]/label_im.shape[0])\n",
    "        \n",
    "    im_dapi = downsample(im_dapi,binning_factor)\n",
    "    im_ab = downsample(im_ab,binning_factor)\n",
    "    im_ab = subtractBg(im_ab)\n",
    "    \n",
    "    rps = measure.regionprops(label_im,im_ab)\n",
    "    prop_list = []\n",
    "    for rp in rps:\n",
    "        l = rp.label\n",
    "\n",
    "        prop = dict([(i, rp[i]) for i in ('label','area','eccentricity','perimeter',\n",
    "                                          'orientation','mean_intensity','min_intensity',\n",
    "                                          'max_intensity')])\n",
    "        yc,xc = rp.centroid\n",
    "        prop['xc'] = xc\n",
    "        prop['yc'] = yc\n",
    "\n",
    "        prop['median_intensity'] = np.median(rp.intensity_image)\n",
    "        \n",
    "        perimeter_ints = im_ab[segmentation.find_boundaries(label_im == l)]\n",
    "        prop['mean_edge_intensity_ab'] = perimeter_ints.mean()\n",
    "        prop['min_edge_intensity_ab'] = perimeter_ints.min()\n",
    "        prop['max_edge_intensity_ab'] = perimeter_ints.max()\n",
    "        prop['median_edge_intensity_ab'] = np.median(perimeter_ints)\n",
    "\n",
    "        prop_list.append(prop)\n",
    "\n",
    "    df_props = pd.DataFrame(prop_list)\n",
    "    df_props['Condition'] = cond\n",
    "    df_props['Pos'] = pos\n",
    "    df_props_all = pd.concat((df_props_all,df_props))\n",
    "    \n",
    "    fig,axs = showSegmentation(label_im,normalize_image(im_dapi),normalize_image(im_ab),rmap,zoom=3,fig=fig);\n",
    "    \n",
    "    fig.savefig(savedir+'%s_Pos%s.jpg' %(cond,pos),\n",
    "               frameon=False,facecolor=None,edgecolor=None,quality=80);\n",
    "\n",
    "    plt.clf() \n",
    "\n",
    "    gc.collect()"
   ]
  },
  {
   "cell_type": "code",
   "execution_count": 32,
   "metadata": {},
   "outputs": [],
   "source": [
    "df_props_all.to_csv(analysis_dir+'nuclei_properties.csv',index=False)"
   ]
  },
  {
   "cell_type": "code",
   "execution_count": 33,
   "metadata": {},
   "outputs": [],
   "source": [
    "import seaborn as sns"
   ]
  },
  {
   "cell_type": "code",
   "execution_count": 34,
   "metadata": {},
   "outputs": [
    {
     "data": {
      "image/png": "[encoded data removed]",
      "text/plain": [
       "<Figure size 720x576 with 1 Axes>"
      ]
     },
     "metadata": {
      "needs_background": "light"
     },
     "output_type": "display_data"
    }
   ],
   "source": [
    "fig = plt.figure(figsize=(10,8))\n",
    "g = sns.boxplot(x='Condition',y='mean_intensity',data=df_props_all)\n",
    "g.set_xticklabels(g.get_xticklabels(),rotation=60);"
   ]
  },
  {
   "cell_type": "code",
   "execution_count": null,
   "metadata": {},
   "outputs": [],
   "source": []
  }
 ],
 "metadata": {
  "kernelspec": {
   "display_name": "Python 3",
   "language": "python",
   "name": "python3"
  },
  "language_info": {
   "codemirror_mode": {
    "name": "ipython",
    "version": 3
   },
   "file_extension": ".py",
   "mimetype": "text/x-python",
   "name": "python",
   "nbconvert_exporter": "python",
   "pygments_lexer": "ipython3",
   "version": "3.7.3"
  }
 },
 "nbformat": 4,
 "nbformat_minor": 4
}
